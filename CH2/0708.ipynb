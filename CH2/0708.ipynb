{
 "cells": [
  {
   "cell_type": "code",
   "execution_count": 7,
   "metadata": {},
   "outputs": [
    {
     "data": {
      "text/plain": [
       "['+', '-', '*', '/']"
      ]
     },
     "execution_count": 7,
     "metadata": {},
     "output_type": "execute_result"
    }
   ],
   "source": [
    "ope_list = ['+','-','*','/']\n",
    "ope_list"
   ]
  },
  {
   "cell_type": "code",
   "execution_count": 18,
   "metadata": {},
   "outputs": [],
   "source": [
    "int_list = [1,2,3,4,5,6,7,8,9]"
   ]
  },
  {
   "cell_type": "code",
   "execution_count": 9,
   "metadata": {},
   "outputs": [
    {
     "data": {
      "text/plain": [
       "[1, 2, 3, 4, 5, 6, 7, 8, 9]"
      ]
     },
     "execution_count": 9,
     "metadata": {},
     "output_type": "execute_result"
    }
   ],
   "source": [
    "int_list"
   ]
  },
  {
   "cell_type": "code",
   "execution_count": null,
   "metadata": {},
   "outputs": [],
   "source": [
    "import random\n",
    "\n",
    "int_A = random.randint(0,8)\n",
    "opeA = random.randint(0,3)\n",
    "intB = random.randint (0,8)\n",
    "\n",
    "str(int_list[intA])+ope_list[opeA]+str(int_list[intB])"
   ]
  },
  {
   "cell_type": "code",
   "execution_count": null,
   "metadata": {},
   "outputs": [],
   "source": [
    "import random\n",
    "\n",
    "ope_list = ['+','-','*','/','//','**','%','<','>','<=','>=','==','!=',' and ',' or ']\n",
    "int_list = [1,2,3,4,5,6,7,8,9]\n",
    "\n",
    "intA = random.randint(0,len(int_list)-1)\n",
    "int_form =str(int_list[intA])\n",
    "\n",
    "for a in range(1,3):\n",
    "int_A = random.randint(0,len(ope_list)-1)\n",
    "intB = random.randint(0,len(int_list)-1)\n",
    "int_form += ope_list[opeA]+str(int_list[intB])\n",
    "\n",
    "print(int_form)"
   ]
  },
  {
   "cell_type": "code",
   "execution_count": null,
   "metadata": {},
   "outputs": [],
   "source": []
  },
  {
   "cell_type": "code",
   "execution_count": null,
   "metadata": {},
   "outputs": [],
   "source": [
    "inport random\n",
    "\n",
    "ope_list =['<','>','<=','>=','==','!=',' and ',' or ']\n",
    "int_list = [1,2,3,4,5,6,7,8,9,'True','False']\n",
    "\n",
    "intA = random.randint(0,len(int_list)-1)\n",
    "int_form =str(int_list[intA])\n",
    "\n",
    "for a in range(1,3):\n",
    "int_A = random.randint(0,len(ope_list)-1)\n",
    "intB = random.randint(0,len(int_list)-1)\n",
    "int_form += ope_list[opeA]+str(int_list[intB])\n",
    "\n",
    "print(int_form)"
   ]
  },
  {
   "cell_type": "code",
   "execution_count": null,
   "metadata": {},
   "outputs": [],
   "source": []
  }
 ],
 "metadata": {
  "kernelspec": {
   "display_name": "Python 3",
   "language": "python",
   "name": "python3"
  },
  "language_info": {
   "codemirror_mode": {
    "name": "ipython",
    "version": 3
   },
   "file_extension": ".py",
   "mimetype": "text/x-python",
   "name": "python",
   "nbconvert_exporter": "python",
   "pygments_lexer": "ipython3",
   "version": "3.8.5"
  }
 },
 "nbformat": 4,
 "nbformat_minor": 4
}
